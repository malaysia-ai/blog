{
 "cells": [
  {
   "cell_type": "markdown",
   "metadata": {},
   "source": [
    "# Available Infrastructure in Malaysia AI"
   ]
  },
  {
   "cell_type": "markdown",
   "metadata": {},
   "source": [
    "We have,\n",
    "\n",
    "1. ElasticSearch, https://elasticsearch.malaysiaai.ml/\n",
    "2. Kibana, https://kibana.favedata.ml/\n",
    "3. Neo4J, https://neo4j.malaysiaai.ml/\n",
    "4. PostgREST, https://postgrest.malaysiaai.ml/\n",
    "5. VSCode, https://vscode.malaysiaai.ml/\n",
    "6. Jupyter Notebook, https://jupyterhub.malaysiaai.ml/\n",
    "7. OSRM Malaysia, https://osrm.malaysiaai.ml/\n",
    "\n",
    "All examples below heavily use Chrome to fetch cookies, if you are using Firefox or other supported browsers, https://github.com/borisbabic/browser_cookie3"
   ]
  },
  {
   "cell_type": "code",
   "execution_count": 4,
   "metadata": {},
   "outputs": [],
   "source": [
    "from elasticsearch import Elasticsearch\n",
    "from elasticsearch_dsl import Search\n",
    "from pycookiecheat import chrome_cookies\n",
    "import requests"
   ]
  },
  {
   "cell_type": "markdown",
   "metadata": {},
   "source": [
    "## ElasticSearch\n",
    "\n",
    "To access ElasticSearch from anywhere, \n",
    "\n",
    "1. Install dependencies,\n",
    "\n",
    "```bash\n",
    "pip3 install requests pycookiecheat elasticsearch elasticsearch-dsl\n",
    "```\n",
    "\n",
    "2. You need to login https://elasticsearch.malaysiaai.ml using your Chrome.\n",
    "\n",
    "3. Get the cookies."
   ]
  },
  {
   "cell_type": "code",
   "execution_count": 5,
   "metadata": {},
   "outputs": [],
   "source": [
    "url = 'https://elasticsearch.malaysiaai.ml'\n",
    "cookies = chrome_cookies(url)"
   ]
  },
  {
   "cell_type": "code",
   "execution_count": 6,
   "metadata": {},
   "outputs": [
    {
     "data": {
      "text/plain": [
       "{'name': 'huseincomel-desktop',\n",
       " 'cluster_name': 'elasticsearch',\n",
       " 'cluster_uuid': 'WLWwNUhcTAaU7BGpsKwNkA',\n",
       " 'version': {'number': '7.15.2',\n",
       "  'build_flavor': 'default',\n",
       "  'build_type': 'deb',\n",
       "  'build_hash': '93d5a7f6192e8a1a12e154a2b81bf6fa7309da0c',\n",
       "  'build_date': '2021-11-04T14:04:42.515624022Z',\n",
       "  'build_snapshot': False,\n",
       "  'lucene_version': '8.9.0',\n",
       "  'minimum_wire_compatibility_version': '6.8.0',\n",
       "  'minimum_index_compatibility_version': '6.0.0-beta1'},\n",
       " 'tagline': 'You Know, for Search'}"
      ]
     },
     "execution_count": 6,
     "metadata": {},
     "output_type": "execute_result"
    }
   ],
   "source": [
    "requests.get(url, cookies = cookies).json()"
   ]
  },
  {
   "cell_type": "markdown",
   "metadata": {},
   "source": [
    "If you are using https://jupyterhub.malaysiaai.ml/, ElasticSearch available at http://localhost:9200"
   ]
  },
  {
   "cell_type": "markdown",
   "metadata": {},
   "source": [
    "## Neo4J\n",
    "\n",
    "To access Neo4J from anywhere, \n",
    "\n",
    "1. Install dependencies,\n",
    "\n",
    "```bash\n",
    "pip3 install requests pycookiecheat\n",
    "```\n",
    "\n",
    "2. You need to login https://neo4j.malaysiaai.ml using your Chrome.\n",
    "\n",
    "3. Get the cookies."
   ]
  },
  {
   "cell_type": "code",
   "execution_count": 8,
   "metadata": {},
   "outputs": [],
   "source": [
    "url = 'https://neo4j.malaysiaai.ml'\n",
    "cookies = chrome_cookies(url)"
   ]
  },
  {
   "cell_type": "code",
   "execution_count": 9,
   "metadata": {},
   "outputs": [
    {
     "data": {
      "text/plain": [
       "{'bolt_routing': 'neo4j://neo4j.malaysiaai.ml:7687',\n",
       " 'transaction': 'http://neo4j.malaysiaai.ml/db/{databaseName}/tx',\n",
       " 'bolt_direct': 'bolt://neo4j.malaysiaai.ml:7687',\n",
       " 'neo4j_version': '4.3.2',\n",
       " 'neo4j_edition': 'community'}"
      ]
     },
     "execution_count": 9,
     "metadata": {},
     "output_type": "execute_result"
    }
   ],
   "source": [
    "requests.get(url, cookies = cookies).json()"
   ]
  },
  {
   "cell_type": "markdown",
   "metadata": {},
   "source": [
    "If you are using https://jupyterhub.malaysiaai.ml/, Neo4J available at http://localhost:7474"
   ]
  },
  {
   "cell_type": "markdown",
   "metadata": {},
   "source": [
    "## PostgREST\n",
    "\n",
    "To access PostgREST from anywhere, \n",
    "\n",
    "1. Install dependencies,\n",
    "\n",
    "```bash\n",
    "pip3 install requests pycookiecheat\n",
    "```\n",
    "\n",
    "2. You need to login https://postgrest.malaysiaai.ml using your Chrome.\n",
    "\n",
    "3. Get the cookies."
   ]
  },
  {
   "cell_type": "code",
   "execution_count": 11,
   "metadata": {},
   "outputs": [],
   "source": [
    "url = 'https://postgrest.malaysiaai.ml'\n",
    "cookies = chrome_cookies(url)"
   ]
  },
  {
   "cell_type": "code",
   "execution_count": 12,
   "metadata": {},
   "outputs": [
    {
     "data": {
      "text/plain": [
       "{'swagger': '2.0',\n",
       " 'info': {'version': '9.0.0',\n",
       "  'title': 'PostgREST API',\n",
       "  'description': 'standard public schema'},\n",
       " 'host': '0.0.0.0:3000',\n",
       " 'basePath': '/',\n",
       " 'schemes': ['http'],\n",
       " 'consumes': ['application/json',\n",
       "  'application/vnd.pgrst.object+json',\n",
       "  'text/csv'],\n",
       " 'produces': ['application/json',\n",
       "  'application/vnd.pgrst.object+json',\n",
       "  'text/csv'],\n",
       " 'paths': {'/': {'get': {'tags': ['Introspection'],\n",
       "    'summary': 'OpenAPI description (this document)',\n",
       "    'produces': ['application/openapi+json', 'application/json'],\n",
       "    'responses': {'200': {'description': 'OK'}}}},\n",
       "  '/todos': {'get': {'tags': ['todos'],\n",
       "    'parameters': [{'$ref': '#/parameters/rowFilter.todos.id'},\n",
       "     {'$ref': '#/parameters/rowFilter.todos.done'},\n",
       "     {'$ref': '#/parameters/rowFilter.todos.task'},\n",
       "     {'$ref': '#/parameters/rowFilter.todos.due'},\n",
       "     {'$ref': '#/parameters/select'},\n",
       "     {'$ref': '#/parameters/order'},\n",
       "     {'$ref': '#/parameters/range'},\n",
       "     {'$ref': '#/parameters/rangeUnit'},\n",
       "     {'$ref': '#/parameters/offset'},\n",
       "     {'$ref': '#/parameters/limit'},\n",
       "     {'$ref': '#/parameters/preferCount'}],\n",
       "    'responses': {'206': {'description': 'Partial Content'},\n",
       "     '200': {'schema': {'items': {'$ref': '#/definitions/todos'},\n",
       "       'type': 'array'},\n",
       "      'description': 'OK'}}},\n",
       "   'post': {'tags': ['todos'],\n",
       "    'parameters': [{'$ref': '#/parameters/body.todos'},\n",
       "     {'$ref': '#/parameters/select'},\n",
       "     {'$ref': '#/parameters/preferReturn'}],\n",
       "    'responses': {'201': {'description': 'Created'}}},\n",
       "   'delete': {'tags': ['todos'],\n",
       "    'parameters': [{'$ref': '#/parameters/rowFilter.todos.id'},\n",
       "     {'$ref': '#/parameters/rowFilter.todos.done'},\n",
       "     {'$ref': '#/parameters/rowFilter.todos.task'},\n",
       "     {'$ref': '#/parameters/rowFilter.todos.due'},\n",
       "     {'$ref': '#/parameters/preferReturn'}],\n",
       "    'responses': {'204': {'description': 'No Content'}}},\n",
       "   'patch': {'tags': ['todos'],\n",
       "    'parameters': [{'$ref': '#/parameters/rowFilter.todos.id'},\n",
       "     {'$ref': '#/parameters/rowFilter.todos.done'},\n",
       "     {'$ref': '#/parameters/rowFilter.todos.task'},\n",
       "     {'$ref': '#/parameters/rowFilter.todos.due'},\n",
       "     {'$ref': '#/parameters/body.todos'},\n",
       "     {'$ref': '#/parameters/preferReturn'}],\n",
       "    'responses': {'204': {'description': 'No Content'}}}}},\n",
       " 'definitions': {'todos': {'required': ['id', 'done', 'task'],\n",
       "   'properties': {'id': {'format': 'integer',\n",
       "     'type': 'integer',\n",
       "     'description': 'Note:\\nThis is a Primary Key.<pk/>'},\n",
       "    'done': {'default': False, 'format': 'boolean', 'type': 'boolean'},\n",
       "    'task': {'format': 'text', 'type': 'string'},\n",
       "    'due': {'format': 'timestamp with time zone', 'type': 'string'}},\n",
       "   'type': 'object'}},\n",
       " 'parameters': {'preferParams': {'name': 'Prefer',\n",
       "   'description': 'Preference',\n",
       "   'required': False,\n",
       "   'in': 'header',\n",
       "   'type': 'string',\n",
       "   'enum': ['params=single-object']},\n",
       "  'preferReturn': {'name': 'Prefer',\n",
       "   'description': 'Preference',\n",
       "   'required': False,\n",
       "   'in': 'header',\n",
       "   'type': 'string',\n",
       "   'enum': ['return=representation', 'return=minimal', 'return=none']},\n",
       "  'preferCount': {'name': 'Prefer',\n",
       "   'description': 'Preference',\n",
       "   'required': False,\n",
       "   'in': 'header',\n",
       "   'type': 'string',\n",
       "   'enum': ['count=none']},\n",
       "  'select': {'name': 'select',\n",
       "   'description': 'Filtering Columns',\n",
       "   'required': False,\n",
       "   'in': 'query',\n",
       "   'type': 'string'},\n",
       "  'on_conflict': {'name': 'on_conflict',\n",
       "   'description': 'On Conflict',\n",
       "   'required': False,\n",
       "   'in': 'query',\n",
       "   'type': 'string'},\n",
       "  'order': {'name': 'order',\n",
       "   'description': 'Ordering',\n",
       "   'required': False,\n",
       "   'in': 'query',\n",
       "   'type': 'string'},\n",
       "  'range': {'name': 'Range',\n",
       "   'description': 'Limiting and Pagination',\n",
       "   'required': False,\n",
       "   'in': 'header',\n",
       "   'type': 'string'},\n",
       "  'rangeUnit': {'name': 'Range-Unit',\n",
       "   'description': 'Limiting and Pagination',\n",
       "   'required': False,\n",
       "   'default': 'items',\n",
       "   'in': 'header',\n",
       "   'type': 'string'},\n",
       "  'offset': {'name': 'offset',\n",
       "   'description': 'Limiting and Pagination',\n",
       "   'required': False,\n",
       "   'in': 'query',\n",
       "   'type': 'string'},\n",
       "  'limit': {'name': 'limit',\n",
       "   'description': 'Limiting and Pagination',\n",
       "   'required': False,\n",
       "   'in': 'query',\n",
       "   'type': 'string'},\n",
       "  'body.todos': {'name': 'todos',\n",
       "   'description': 'todos',\n",
       "   'required': False,\n",
       "   'schema': {'$ref': '#/definitions/todos'},\n",
       "   'in': 'body'},\n",
       "  'rowFilter.todos.id': {'name': 'id',\n",
       "   'required': False,\n",
       "   'format': 'integer',\n",
       "   'in': 'query',\n",
       "   'type': 'string'},\n",
       "  'rowFilter.todos.done': {'name': 'done',\n",
       "   'required': False,\n",
       "   'format': 'boolean',\n",
       "   'in': 'query',\n",
       "   'type': 'string'},\n",
       "  'rowFilter.todos.task': {'name': 'task',\n",
       "   'required': False,\n",
       "   'format': 'text',\n",
       "   'in': 'query',\n",
       "   'type': 'string'},\n",
       "  'rowFilter.todos.due': {'name': 'due',\n",
       "   'required': False,\n",
       "   'format': 'timestamp with time zone',\n",
       "   'in': 'query',\n",
       "   'type': 'string'}},\n",
       " 'externalDocs': {'url': 'https://postgrest.org/en/v9.0/api.html',\n",
       "  'description': 'PostgREST Documentation'}}"
      ]
     },
     "execution_count": 12,
     "metadata": {},
     "output_type": "execute_result"
    }
   ],
   "source": [
    "requests.get(url, cookies = cookies).json()"
   ]
  },
  {
   "cell_type": "markdown",
   "metadata": {},
   "source": [
    "If you are using https://jupyterhub.malaysiaai.ml/, PostgREST available at http://localhost:3000"
   ]
  },
  {
   "cell_type": "markdown",
   "metadata": {},
   "source": [
    "## VSCode\n",
    "\n",
    "Cloud Code-Server hosted in Malaysia AI server, https://vscode.malaysiaai.ml/"
   ]
  },
  {
   "cell_type": "markdown",
   "metadata": {},
   "source": [
    "## Jupyter Notebook\n",
    "\n",
    "Cloud Jupyter Notebook hosted in Malaysia AI server, https://jupyterhub.malaysiaai.ml/"
   ]
  },
  {
   "cell_type": "markdown",
   "metadata": {},
   "source": [
    "## OSRM Malaysia\n",
    "\n",
    "Self hosted OSRM, only able to calculate Malaysia and Singapore latlong. https://osrm.malaysiaai.ml/ not protected by Github Auth, so feel free to use it."
   ]
  },
  {
   "cell_type": "code",
   "execution_count": 13,
   "metadata": {},
   "outputs": [],
   "source": [
    "url = 'https://osrm.malaysiaai.ml/route/v1/driving/100.46722412109374,6.058623804918194;100.51211357116699,6.01423932199451?overview=false'"
   ]
  },
  {
   "cell_type": "code",
   "execution_count": 15,
   "metadata": {},
   "outputs": [
    {
     "data": {
      "text/plain": [
       "{'code': 'Ok',\n",
       " 'routes': [{'legs': [{'steps': [],\n",
       "     'distance': 10209,\n",
       "     'duration': 1050.8,\n",
       "     'summary': '',\n",
       "     'weight': 1074.3}],\n",
       "   'distance': 10209,\n",
       "   'duration': 1050.8,\n",
       "   'weight_name': 'routability',\n",
       "   'weight': 1074.3}],\n",
       " 'waypoints': [{'hint': '3rgigOO4IoAAAAAAEgAAAAAAAAB5AQAAAAAAAE8QTEEAAAAAmLGCQwAAAAASAAAAAAAAAHkBAAB3DwAAkQf9BUR5XAAYAv0FgHJcAAAA3wWyG2KR',\n",
       "   'distance': 246.443801,\n",
       "   'name': '',\n",
       "   'location': [100.468625, 6.060356]},\n",
       "  {'hint': 'Ha0igB-tIoADAAAADQAAAAkBAAASAAAAOgJxQKlNX0ErjpJD9WaeQQMAAAANAAAACQEAABIAAAB3DwAAa7H9BU3EWwBysf0FH8VbAAsA_xCyG2KR',\n",
       "   'distance': 23.234645,\n",
       "   'name': '',\n",
       "   'location': [100.512107, 6.014029]}]}"
      ]
     },
     "execution_count": 15,
     "metadata": {},
     "output_type": "execute_result"
    }
   ],
   "source": [
    "requests.get(url).json()"
   ]
  },
  {
   "cell_type": "code",
   "execution_count": null,
   "metadata": {},
   "outputs": [],
   "source": []
  }
 ],
 "metadata": {
  "kernelspec": {
   "display_name": "Python 3",
   "language": "python",
   "name": "python3"
  },
  "language_info": {
   "codemirror_mode": {
    "name": "ipython",
    "version": 3
   },
   "file_extension": ".py",
   "mimetype": "text/x-python",
   "name": "python",
   "nbconvert_exporter": "python",
   "pygments_lexer": "ipython3",
   "version": "3.7.7"
  }
 },
 "nbformat": 4,
 "nbformat_minor": 4
}
